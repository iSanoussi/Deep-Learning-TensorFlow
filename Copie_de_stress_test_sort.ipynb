{
  "nbformat": 4,
  "nbformat_minor": 0,
  "metadata": {
    "colab": {
      "provenance": [],
      "include_colab_link": true
    },
    "kernelspec": {
      "name": "python3",
      "display_name": "Python 3"
    },
    "language_info": {
      "name": "python"
    }
  },
  "cells": [
    {
      "cell_type": "markdown",
      "metadata": {
        "id": "view-in-github",
        "colab_type": "text"
      },
      "source": [
        "<a href=\"https://colab.research.google.com/github/iSanoussi/Deep-Learning-TensorFlow/blob/main/Copie_de_stress_test_sort.ipynb\" target=\"_parent\"><img src=\"https://colab.research.google.com/assets/colab-badge.svg\" alt=\"Open In Colab\"/></a>"
      ]
    },
    {
      "cell_type": "code",
      "execution_count": null,
      "metadata": {
        "id": "TrDXnbQQQ1cp"
      },
      "outputs": [],
      "source": [
        "import numpy as np\n",
        "\n",
        "A = np.random.randint(0,10, 20)"
      ]
    },
    {
      "cell_type": "code",
      "source": [
        "print(A)\n",
        "print(sorted(A))"
      ],
      "metadata": {
        "colab": {
          "base_uri": "https://localhost:8080/"
        },
        "id": "JcwzSCy-Q_E3",
        "outputId": "96f968a1-0701-452e-f8e2-5dbcb648275f"
      },
      "execution_count": null,
      "outputs": [
        {
          "output_type": "stream",
          "name": "stdout",
          "text": [
            "[6 2 6 9 2 7 6 7 2 3 5 1 0 1 5 6 3 0 9 9]\n",
            "[0, 0, 1, 1, 2, 2, 2, 3, 3, 5, 5, 6, 6, 6, 6, 7, 7, 9, 9, 9]\n"
          ]
        }
      ]
    },
    {
      "cell_type": "code",
      "source": [
        "def my_sort(B):\n",
        "  A = B.copy()\n",
        "  n = len(A)\n",
        "\n",
        "\n",
        "  for i in range(n):\n",
        "    minim = A[i]\n",
        "    ind = i\n",
        "    for j in range(i,n):\n",
        "      if A[j] < minim :\n",
        "        ind  = j\n",
        "        minim = A[j]\n",
        "    A[i], A[ind] = A[ind], A[i]\n",
        "  return A\n",
        "\n"
      ],
      "metadata": {
        "id": "WRkYWHDQRGT6"
      },
      "execution_count": null,
      "outputs": []
    },
    {
      "cell_type": "code",
      "source": [
        "my_sort(A)"
      ],
      "metadata": {
        "colab": {
          "base_uri": "https://localhost:8080/"
        },
        "id": "ys-L0O_nTbHX",
        "outputId": "2ccc5c22-ff42-4946-963f-f5ed83bb9876"
      },
      "execution_count": null,
      "outputs": [
        {
          "output_type": "execute_result",
          "data": {
            "text/plain": [
              "array([0, 0, 1, 1, 2, 2, 2, 3, 3, 5, 5, 6, 6, 6, 6, 7, 7, 9, 9, 9])"
            ]
          },
          "metadata": {},
          "execution_count": 11
        }
      ]
    },
    {
      "cell_type": "code",
      "source": [
        "A"
      ],
      "metadata": {
        "colab": {
          "base_uri": "https://localhost:8080/"
        },
        "id": "q3VPe6hnTdGK",
        "outputId": "8ec4eaaf-facd-4fe2-ba60-b6883037b41c"
      },
      "execution_count": null,
      "outputs": [
        {
          "output_type": "execute_result",
          "data": {
            "text/plain": [
              "array([0, 1, 1, 1, 2, 2, 4, 4, 4, 4, 5, 5, 6, 7, 8, 8, 9, 9, 9, 9])"
            ]
          },
          "metadata": {},
          "execution_count": 6
        }
      ]
    },
    {
      "cell_type": "markdown",
      "source": [
        "# Objectif : rediger un stress test\n",
        "- générer une boucle while() (infinie)\n",
        "- générer une liste aléatoire\n",
        "- comparer sorted(liste) et my_sort(liste)\n",
        "- renvoyer un message d'erreur si le résultat est différent\n",
        "- continuer si résultat est identique (attention aux types de liste)\n",
        "- éventuellement ajouter un compteur de cas corrects"
      ],
      "metadata": {
        "id": "zn3AalZeZiav"
      }
    },
    {
      "cell_type": "code",
      "source": [],
      "metadata": {
        "id": "5pE-bWsHTeFw"
      },
      "execution_count": null,
      "outputs": []
    }
  ]
}